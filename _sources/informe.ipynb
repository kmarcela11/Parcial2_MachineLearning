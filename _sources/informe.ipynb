{
 "cells": [
  {
   "cell_type": "markdown",
   "metadata": {},
   "source": [
    "# **Ejercicio 1.2: Research**\n",
    "\n",
    "Escriba un informe de no más de dos páginas (seleccione algún formato de entrega: **LaTeX, JBook, Word**) con las siguientes secciones: **resumen**, **descripción de metodología** y **librería Python**. La Figura 1 muestra un ejemplo del informe esperado. Usted tiene la libertad de decidir qué herramientas usar para diseñarlo, incluso, *puedo hacerlo a mano con papel y colores*.\n",
    "\n",
    "El ejercicio de investigación se enfocará en estudiar las siguientes técnicas para balanceo de clases (ver [ADASYN](https://ieeexplore.ieee.org/document/4633969)) e hiperparametrización (ver [Bayesian Optimization](https://github.com/bayesian-optimization/BayesianOptimization)).\n",
    "\n",
    "- [ADASYN (Adaptive Synthetic Sampling)](https://glemaitre.github.io/imbalanced-learn/generated/imblearn.over_sampling.ADASYN.html)\n",
    "- [Bayesian optimization](https://www.kaggle.com/code/clair14/tutorial-bayesian-optimization)\n"
   ]
  },
  {
   "cell_type": "markdown",
   "metadata": {},
   "source": [
    "# **ADASYN**"
   ]
  },
  {
   "cell_type": "markdown",
   "metadata": {},
   "source": [
    "## **Resumen**"
   ]
  },
  {
   "cell_type": "markdown",
   "metadata": {},
   "source": [
    "## **Descripción de metodología**"
   ]
  },
  {
   "cell_type": "markdown",
   "metadata": {},
   "source": [
    "## **Librería Python**"
   ]
  },
  {
   "cell_type": "markdown",
   "metadata": {},
   "source": [
    "# **Optimización bayesiana**"
   ]
  },
  {
   "cell_type": "markdown",
   "metadata": {},
   "source": [
    "## **Resumen**"
   ]
  },
  {
   "cell_type": "markdown",
   "metadata": {},
   "source": [
    "## **Descripción de metodología**"
   ]
  },
  {
   "cell_type": "markdown",
   "metadata": {},
   "source": [
    "## **Librería Python**"
   ]
  }
 ],
 "metadata": {
  "kernelspec": {
   "display_name": "ml_venv",
   "language": "python",
   "name": "python3"
  },
  "language_info": {
   "name": "python",
   "version": "3.9.19"
  }
 },
 "nbformat": 4,
 "nbformat_minor": 2
}
