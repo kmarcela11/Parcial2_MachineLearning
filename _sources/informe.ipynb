{
 "cells": [
  {
   "cell_type": "markdown",
   "metadata": {},
   "source": [
    "# **Ejercicio 1.2: Research**\n",
    "\n",
    "Escriba un informe de no más de dos páginas (seleccione algún formato de entrega: **LaTeX, JBook, Word**) con las siguientes secciones: **resumen**, **descripción de metodología** y **librería Python**. La Figura 1 muestra un ejemplo del informe esperado. Usted tiene la libertad de decidir qué herramientas usar para diseñarlo, incluso, *puedo hacerlo a mano con papel y colores*.\n",
    "\n",
    "El ejercicio de investigación se enfocará en estudiar las siguientes técnicas para balanceo de clases (ver [ADASYN](https://ieeexplore.ieee.org/document/4633969)) e hiperparametrización (ver [Bayesian Optimization](https://github.com/bayesian-optimization/BayesianOptimization)).\n",
    "\n",
    "- [ADASYN (Adaptive Synthetic Sampling)](https://glemaitre.github.io/imbalanced-learn/generated/imblearn.over_sampling.ADASYN.html)\n",
    "- [Bayesian optimization](https://www.kaggle.com/code/clair14/tutorial-bayesian-optimization)\n"
   ]
  },
  {
   "cell_type": "markdown",
   "metadata": {},
   "source": [
    "# **ADASYN**"
   ]
  },
  {
   "cell_type": "markdown",
   "metadata": {},
   "source": [
    "## **Resumen**"
   ]
  },
  {
   "cell_type": "markdown",
   "metadata": {},
   "source": [
    "**ADASYN** *(Adaptive Synthetic Sampling)* es una técnica de sobremuestreo utilizada en el aprendizaje automático para equilibrar conjuntos de datos desbalanceados, que contienen una **clase mayoritaria** (con muchas muestras) y una **clase minoritaria** (con pocas muestras). ADASYN genera ejemplos sintéticos para la clase minoritaria, enfocándose en las muestras más difíciles de clasificar según la densidad local. Esto mejora el rendimiento de los modelos de clasificación al reducir el sesgo hacia la clase mayoritaria, siendo útil en aplicaciones como la investigación médica y la detección de fraudes."
   ]
  },
  {
   "cell_type": "markdown",
   "metadata": {},
   "source": [
    "## **Descripción de metodología**"
   ]
  },
  {
   "cell_type": "markdown",
   "metadata": {},
   "source": [
    "![Descripción de la metodología](ADASYN.png)\n"
   ]
  },
  {
   "cell_type": "markdown",
   "metadata": {},
   "source": [
    "## **Librería Python**"
   ]
  },
  {
   "cell_type": "markdown",
   "metadata": {},
   "source": [
    "![Librería python](ADASYNP.png)"
   ]
  },
  {
   "cell_type": "markdown",
   "metadata": {},
   "source": [
    "# **Optimización bayesiana**"
   ]
  },
  {
   "cell_type": "markdown",
   "metadata": {},
   "source": [
    "## **Resumen**"
   ]
  },
  {
   "cell_type": "markdown",
   "metadata": {},
   "source": [
    "La **optimización bayesiana** es una técnica utilizada para la búsqueda de hiperparámetros en modelos de machine learning, la cual mejora la eficiencia de este proceso. A diferencia de métodos como **grid search** y **random search**, que prueban combinaciones de hiperparámetros sin considerar resultados previos, la optimización bayesiana construye un modelo probabilístico sobre la función objetivo (como la métrica de validación) y utiliza la información de iteraciones anteriores para enfocar la búsqueda en regiones más prometedoras del espacio de hiperparámetros. Esta técnica es especialmente útil cuando el espacio de búsqueda es amplio o el entrenamiento del modelo es costoso, ya que reduce el número de evaluaciones necesarias para encontrar combinaciones óptimas."
   ]
  },
  {
   "cell_type": "markdown",
   "metadata": {},
   "source": [
    "## **Descripción de metodología**"
   ]
  },
  {
   "cell_type": "markdown",
   "metadata": {},
   "source": [
    "## **Librería Python**"
   ]
  },
  {
   "cell_type": "markdown",
   "metadata": {},
   "source": [
    "![Librería python](BAYESIANAP.png)"
   ]
  }
 ],
 "metadata": {
  "kernelspec": {
   "display_name": "ml_venv",
   "language": "python",
   "name": "python3"
  },
  "language_info": {
   "name": "python",
   "version": "3.9.19"
  }
 },
 "nbformat": 4,
 "nbformat_minor": 2
}
