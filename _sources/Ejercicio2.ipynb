{
 "cells": [
  {
   "cell_type": "markdown",
   "metadata": {},
   "source": [
    "# **Ejercicio 2: Modelos de Clasificación**"
   ]
  },
  {
   "cell_type": "markdown",
   "metadata": {},
   "source": [
    "Considere el conjunto de datos **Default Probability Prediction**. Implemente la versión de clasificación para cada uno de los modelos estudiados en clases, y prediga la variable respuesta, **probabilidad para la variable target (default probability)**. Construya una **tabla de error** que contenga las métricas usuales de clasificación: **precision**, **recall**, **f1-score**, **AUC**. Además, agregue **matrices de confusión** (ver `confusion_matrix`) y **curvas ROC** (ver `plot_roc`). Inicialmente, realice un **balanceo de clases** usando **ADASYN** (Adaptive Synthetic Sampling), luego compare los resultados predictivos con o sin balanceo ADASYN. Posteriormente, realice **hiperparametrización** usando **BayesianOptimization**, **GridSearchCV**, y **Pipeline** para evaluar cada modelo, comparando los resultados en términos de **tiempo de cómputo**. Verifique que la **validación cruzada** seleccionada es la adecuada, y justifíquela. Utilice la métrica **M = 0.5 · (G + D)**, para seleccionar el **mejor modelo de clasificación** (maximizar M) (ver sección Default Probability Prediction). os resultados deben estar registrados en una **tabla de error** (ver Tabla 1) que resuma cada **score** obtenido por el modelo implementado.\n"
   ]
  },
  {
   "cell_type": "markdown",
   "metadata": {},
   "source": [
    "| Modelo                               | precision | recall | f1-score | AUC | M   |\n",
    "|--------------------------------------|-----------|--------|----------|-----|-----|\n",
    "| Clasificación Bayesiana              | ···       | ···    | ···      | ··· | ··· |\n",
    "| K-NN                                 | ···       | ···    | ···      | ··· | ··· |\n",
    "| L1/L2 Penalty Logistic Regression    | ···       | ···    | ···      | ··· | ··· |\n",
    "\n",
    "Cuadro 1: Modelo de clasificación para predicción de probabilidad de default.\n"
   ]
  }
 ],
 "metadata": {
  "language_info": {
   "name": "python"
  }
 },
 "nbformat": 4,
 "nbformat_minor": 2
}
